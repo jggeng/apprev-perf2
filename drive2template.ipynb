{
 "cells": [
  {
   "cell_type": "markdown",
   "metadata": {},
   "source": [
    "# Application Review - Performance Test"
   ]
  },
  {
   "cell_type": "markdown",
   "metadata": {},
   "source": [
    "### [MFG] - [NAME] - [MODEL] - [POWER]"
   ]
  },
  {
   "cell_type": "code",
   "execution_count": null,
   "metadata": {},
   "outputs": [],
   "source": [
    "import pandas as pd\n",
    "import matplotlib.pyplot as plt\n",
    "import nptdms as td\n",
    "from scripts.wpphist import plot as hist_plot\n",
    "from scripts.vib_files import getTdmsFilesInPath, getTdmsFilesInFolder\n",
    "from scripts.driveTdms import filterDataFrame\n",
    "%matplotlib inline"
   ]
  },
  {
   "cell_type": "markdown",
   "metadata": {},
   "source": [
    "### Constants from Performance Curve and Initial Notebook Setup"
   ]
  },
  {
   "cell_type": "code",
   "execution_count": null,
   "metadata": {},
   "outputs": [],
   "source": [
    "perf_curve_cac_min = 43  #degrees C\n",
    "perf_curve_cac_max = 52  #degrees C\n",
    "\n",
    "perf_curve_max_top_tank = 110 #degrees C\n",
    "\n",
    "perf_curve_min_water_pump_inlet_95C = 30 #kPa\n",
    "\n",
    "perf_curve_max_intake_restriction = -3.75 #kPa\n",
    "\n",
    "perf_curve_min_exhaust_backpressure = 4 #kPa\n",
    "perf_curve_max_exhaust_backpressure = 10 #kPa\n",
    "\n",
    "HIDE_EXTRA_OUTPUT = True #reduce ammount of output in notebook\n",
    "FILTER_NAN = True  #remove columns from TDMS data where all values are not a number or all the same number\n",
    "\n",
    "#Find all tdms files in this path\n",
    "mypath = './'\n",
    "result = getTdmsFilesInFolder(mypath)  #only return files in mypath\n",
    "#result = getTdmsFilesInPath(mypath)   #return files in mypath and all subfolders\n",
    "print(\"Index:\\t\\tFile:\")\n",
    "[print(\"result[{}]\\t{}\".format(index, f)) for index, f in enumerate(result)]\n",
    "print ('{0} files found'.format(len(result)))"
   ]
  },
  {
   "cell_type": "markdown",
   "metadata": {},
   "source": [
    "### Specify TDMS file and Setup Data Structures"
   ]
  },
  {
   "cell_type": "code",
   "execution_count": null,
   "metadata": {},
   "outputs": [],
   "source": [
    "#Can specify directly or with index\n",
    "#tdfile = \"./data/sample.tdms\"\n",
    "tdfile = result[1]\n",
    "\n",
    "#Updated npTDMS to Pandas conversion\n",
    "print(tdfile)\n",
    "tdms_file = td.TdmsFile.read(tdfile)\n",
    "print(tdms_file.properties)\n",
    "\n",
    "#create Pandas dataframe and mark it as unmodified from the TDMS channel names\n",
    "df = tdms_file.as_dataframe()\n",
    "#whenever this cell runs the df object is re-instantiated.  Flag the new dataframe as unfiltered\n",
    "FILTERED = False"
   ]
  },
  {
   "cell_type": "markdown",
   "metadata": {},
   "source": [
    "### Read Available Data Headings from TDMS file specied"
   ]
  },
  {
   "cell_type": "code",
   "execution_count": null,
   "metadata": {},
   "outputs": [],
   "source": [
    "df, FILTERED = filterDataFrame(df, FILTERED, FILTER_NAN)\n",
    "if not HIDE_EXTRA_OUTPUT:\n",
    "    all_groups = tdms_file.groups()\n",
    "    for group in all_groups:\n",
    "        print(group)\n",
    "        print(group.properties)\n",
    "        for channel in group.channels():\n",
    "            print(channel.properties)\n",
    "if not HIDE_EXTRA_OUTPUT:\n",
    "    print(\"All Available Fields:\\n\")\n",
    "    [print(field) for field in df.columns.values]\n",
    "else:\n",
    "    print(\"Available Fields (CAN Channels not listed):\\n\")\n",
    "    [print(field) for field in df.columns.values if not field.startswith('C')]"
   ]
  },
  {
   "cell_type": "markdown",
   "metadata": {},
   "source": [
    "# Specify aggregate calculations"
   ]
  },
  {
   "cell_type": "code",
   "execution_count": null,
   "metadata": {},
   "outputs": [],
   "source": [
    "#General Calculations\n",
    "df['Ambient'] = (df.T01_AmbientAir_01) # + df.T02_AmbientAir_02) / 2.0\n",
    "df['LAT'] = perf_curve_max_top_tank - df.C22_EngineCoolantTemp + df.Ambient\n",
    "df['IntakeTempRise'] = df.T04_Turbo_Air_Inlet - df.Ambient\n",
    "#df['CorrectedCAC'] = 25 - df.Ambient + df.C23_EngineCACOutletTemp\n",
    "#df['IntakeRestrictionAvailable'] = df.P01_Intake_Air_Restriction - perf_curve_max_intake_restriction\n",
    "#Test Specific Calculations"
   ]
  },
  {
   "cell_type": "markdown",
   "metadata": {},
   "source": [
    "### Plot overall Run.  Look at index at bottom for more detailed plot in next cell."
   ]
  },
  {
   "cell_type": "code",
   "execution_count": null,
   "metadata": {},
   "outputs": [],
   "source": [
    "df.plot(figsize=(15,45), color=('r'), subplots=True );"
   ]
  },
  {
   "cell_type": "markdown",
   "metadata": {},
   "source": [
    "# Place the start and end timestamp of the test to be analyzed below\n",
    "\n",
    "Not all data in the data frame should go into the CAC and temp rise histograms.  Specify only the data where the engine has been warmed up and is running under a representative load for this subset of the data.  Full test runs can be obtained by referening the df data frame instead of this test_subset data frame"
   ]
  },
  {
   "cell_type": "code",
   "execution_count": null,
   "metadata": {},
   "outputs": [],
   "source": [
    "analysis_start = 200\n",
    "analysis_end = 1000"
   ]
  },
  {
   "cell_type": "markdown",
   "metadata": {},
   "source": [
    "## Use the analysis start and end times to create a slice of the data named test_subset which should be fed into the calcualtions"
   ]
  },
  {
   "cell_type": "code",
   "execution_count": null,
   "metadata": {},
   "outputs": [],
   "source": [
    "assert(analysis_start < analysis_end)\n",
    "test_subset = df[analysis_start:analysis_end]  #test_subset = df[800:1550] #can just specify range here\n",
    "\n",
    "section_plot = test_subset.plot(figsize=(15,30), color = ('g'), subplots=True);"
   ]
  },
  {
   "cell_type": "markdown",
   "metadata": {},
   "source": [
    "# Histograms from the test_subset data"
   ]
  },
  {
   "cell_type": "code",
   "execution_count": null,
   "metadata": {},
   "outputs": [],
   "source": [
    "hist_plot(data=test_subset['IntakeTempRise'].values, ylabel='Count', xlabel='Temperature (degC)', \n",
    "             title='Intake Temp Rise (degC) Histogram', color='green')"
   ]
  },
  {
   "cell_type": "code",
   "execution_count": null,
   "metadata": {},
   "outputs": [],
   "source": [
    "hist_plot(data=test_subset['LAT'].values, ylabel='Count', xlabel='Temperature (degC)', \n",
    "             title='Limiting Ambient Temperature (degC) Histogram', color='orange')"
   ]
  },
  {
   "cell_type": "code",
   "execution_count": null,
   "metadata": {},
   "outputs": [],
   "source": [
    "#hist_plot(data=test_subset['CorrectedCAC'].values, ylabel='Count', xlabel='Temperature (degC)', \n",
    "#             title='Corrected CAC (degC) Histogram', color='blue')"
   ]
  },
  {
   "cell_type": "code",
   "execution_count": null,
   "metadata": {},
   "outputs": [],
   "source": [
    "#hist_plot(data=test_subset['IntakeRestrictionAvailable'].values, ylabel='Count', xlabel='Pressure (kPa)', \n",
    "#             title='Intake Restriction Margin (kPa) Histogram', color='pink')"
   ]
  }
 ],
 "metadata": {
  "kernelspec": {
   "display_name": "Python 3",
   "language": "python",
   "name": "python3"
  },
  "language_info": {
   "codemirror_mode": {
    "name": "ipython",
    "version": 3
   },
   "file_extension": ".py",
   "mimetype": "text/x-python",
   "name": "python",
   "nbconvert_exporter": "python",
   "pygments_lexer": "ipython3",
   "version": "3.7.6"
  }
 },
 "nbformat": 4,
 "nbformat_minor": 4
}
